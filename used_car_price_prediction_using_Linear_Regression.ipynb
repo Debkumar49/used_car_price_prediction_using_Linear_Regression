{
  "cells": [
    {
      "cell_type": "markdown",
      "metadata": {
        "id": "JSPigpduTemb"
      },
      "source": [
        "##Importing all necessary libraries"
      ]
    },
    {
      "cell_type": "code",
      "execution_count": 1,
      "metadata": {
        "id": "IU_yGIvkGHhT"
      },
      "outputs": [],
      "source": [
        "import tensorflow as tf\n",
        "import pandas as pd \n",
        "import numpy as np\n",
        "import os\n",
        "import seaborn as sns\n",
        "import datetime\n",
        "import matplotlib.pyplot as plt"
      ]
    },
    {
      "cell_type": "markdown",
      "metadata": {
        "id": "eXMBmYpnTvFy"
      },
      "source": [
        "##Mounting Google Drive to Import Dataset from Google Drive"
      ]
    },
    {
      "cell_type": "code",
      "execution_count": 2,
      "metadata": {
        "colab": {
          "base_uri": "https://localhost:8080/"
        },
        "id": "BGiBOMSHTYov",
        "outputId": "109849cd-d816-4883-d8d8-ba80a30adf5f"
      },
      "outputs": [
        {
          "output_type": "stream",
          "name": "stdout",
          "text": [
            "Mounted at /content/drive\n"
          ]
        }
      ],
      "source": [
        "from google.colab import drive\n",
        "import io\n",
        "drive.mount('/content/drive')"
      ]
    },
    {
      "cell_type": "markdown",
      "metadata": {
        "id": "H8ZJ-Y7PUCUB"
      },
      "source": [
        "##Importing Dataset"
      ]
    },
    {
      "cell_type": "code",
      "execution_count": 3,
      "metadata": {
        "colab": {
          "base_uri": "https://localhost:8080/",
          "height": 423
        },
        "id": "VcvOwpdgUB_6",
        "outputId": "e6f39630-01a8-49a4-849b-aca95e204ac7"
      },
      "outputs": [
        {
          "output_type": "execute_result",
          "data": {
            "text/plain": [
              "                                     name  year  selling_price  km_driven  \\\n",
              "0                           Maruti 800 AC  2007          60000      70000   \n",
              "1                Maruti Wagon R LXI Minor  2007         135000      50000   \n",
              "2                    Hyundai Verna 1.6 SX  2012         600000     100000   \n",
              "3                  Datsun RediGO T Option  2017         250000      46000   \n",
              "4                   Honda Amaze VX i-DTEC  2014         450000     141000   \n",
              "...                                   ...   ...            ...        ...   \n",
              "4335  Hyundai i20 Magna 1.4 CRDi (Diesel)  2014         409999      80000   \n",
              "4336           Hyundai i20 Magna 1.4 CRDi  2014         409999      80000   \n",
              "4337                  Maruti 800 AC BSIII  2009         110000      83000   \n",
              "4338     Hyundai Creta 1.6 CRDi SX Option  2016         865000      90000   \n",
              "4339                     Renault KWID RXT  2016         225000      40000   \n",
              "\n",
              "        fuel seller_type transmission         owner  \n",
              "0     Petrol  Individual       Manual   First Owner  \n",
              "1     Petrol  Individual       Manual   First Owner  \n",
              "2     Diesel  Individual       Manual   First Owner  \n",
              "3     Petrol  Individual       Manual   First Owner  \n",
              "4     Diesel  Individual       Manual  Second Owner  \n",
              "...      ...         ...          ...           ...  \n",
              "4335  Diesel  Individual       Manual  Second Owner  \n",
              "4336  Diesel  Individual       Manual  Second Owner  \n",
              "4337  Petrol  Individual       Manual  Second Owner  \n",
              "4338  Diesel  Individual       Manual   First Owner  \n",
              "4339  Petrol  Individual       Manual   First Owner  \n",
              "\n",
              "[4340 rows x 8 columns]"
            ],
            "text/html": [
              "\n",
              "  <div id=\"df-16d3ae40-ed60-43e0-a981-7b2ea27f556e\">\n",
              "    <div class=\"colab-df-container\">\n",
              "      <div>\n",
              "<style scoped>\n",
              "    .dataframe tbody tr th:only-of-type {\n",
              "        vertical-align: middle;\n",
              "    }\n",
              "\n",
              "    .dataframe tbody tr th {\n",
              "        vertical-align: top;\n",
              "    }\n",
              "\n",
              "    .dataframe thead th {\n",
              "        text-align: right;\n",
              "    }\n",
              "</style>\n",
              "<table border=\"1\" class=\"dataframe\">\n",
              "  <thead>\n",
              "    <tr style=\"text-align: right;\">\n",
              "      <th></th>\n",
              "      <th>name</th>\n",
              "      <th>year</th>\n",
              "      <th>selling_price</th>\n",
              "      <th>km_driven</th>\n",
              "      <th>fuel</th>\n",
              "      <th>seller_type</th>\n",
              "      <th>transmission</th>\n",
              "      <th>owner</th>\n",
              "    </tr>\n",
              "  </thead>\n",
              "  <tbody>\n",
              "    <tr>\n",
              "      <th>0</th>\n",
              "      <td>Maruti 800 AC</td>\n",
              "      <td>2007</td>\n",
              "      <td>60000</td>\n",
              "      <td>70000</td>\n",
              "      <td>Petrol</td>\n",
              "      <td>Individual</td>\n",
              "      <td>Manual</td>\n",
              "      <td>First Owner</td>\n",
              "    </tr>\n",
              "    <tr>\n",
              "      <th>1</th>\n",
              "      <td>Maruti Wagon R LXI Minor</td>\n",
              "      <td>2007</td>\n",
              "      <td>135000</td>\n",
              "      <td>50000</td>\n",
              "      <td>Petrol</td>\n",
              "      <td>Individual</td>\n",
              "      <td>Manual</td>\n",
              "      <td>First Owner</td>\n",
              "    </tr>\n",
              "    <tr>\n",
              "      <th>2</th>\n",
              "      <td>Hyundai Verna 1.6 SX</td>\n",
              "      <td>2012</td>\n",
              "      <td>600000</td>\n",
              "      <td>100000</td>\n",
              "      <td>Diesel</td>\n",
              "      <td>Individual</td>\n",
              "      <td>Manual</td>\n",
              "      <td>First Owner</td>\n",
              "    </tr>\n",
              "    <tr>\n",
              "      <th>3</th>\n",
              "      <td>Datsun RediGO T Option</td>\n",
              "      <td>2017</td>\n",
              "      <td>250000</td>\n",
              "      <td>46000</td>\n",
              "      <td>Petrol</td>\n",
              "      <td>Individual</td>\n",
              "      <td>Manual</td>\n",
              "      <td>First Owner</td>\n",
              "    </tr>\n",
              "    <tr>\n",
              "      <th>4</th>\n",
              "      <td>Honda Amaze VX i-DTEC</td>\n",
              "      <td>2014</td>\n",
              "      <td>450000</td>\n",
              "      <td>141000</td>\n",
              "      <td>Diesel</td>\n",
              "      <td>Individual</td>\n",
              "      <td>Manual</td>\n",
              "      <td>Second Owner</td>\n",
              "    </tr>\n",
              "    <tr>\n",
              "      <th>...</th>\n",
              "      <td>...</td>\n",
              "      <td>...</td>\n",
              "      <td>...</td>\n",
              "      <td>...</td>\n",
              "      <td>...</td>\n",
              "      <td>...</td>\n",
              "      <td>...</td>\n",
              "      <td>...</td>\n",
              "    </tr>\n",
              "    <tr>\n",
              "      <th>4335</th>\n",
              "      <td>Hyundai i20 Magna 1.4 CRDi (Diesel)</td>\n",
              "      <td>2014</td>\n",
              "      <td>409999</td>\n",
              "      <td>80000</td>\n",
              "      <td>Diesel</td>\n",
              "      <td>Individual</td>\n",
              "      <td>Manual</td>\n",
              "      <td>Second Owner</td>\n",
              "    </tr>\n",
              "    <tr>\n",
              "      <th>4336</th>\n",
              "      <td>Hyundai i20 Magna 1.4 CRDi</td>\n",
              "      <td>2014</td>\n",
              "      <td>409999</td>\n",
              "      <td>80000</td>\n",
              "      <td>Diesel</td>\n",
              "      <td>Individual</td>\n",
              "      <td>Manual</td>\n",
              "      <td>Second Owner</td>\n",
              "    </tr>\n",
              "    <tr>\n",
              "      <th>4337</th>\n",
              "      <td>Maruti 800 AC BSIII</td>\n",
              "      <td>2009</td>\n",
              "      <td>110000</td>\n",
              "      <td>83000</td>\n",
              "      <td>Petrol</td>\n",
              "      <td>Individual</td>\n",
              "      <td>Manual</td>\n",
              "      <td>Second Owner</td>\n",
              "    </tr>\n",
              "    <tr>\n",
              "      <th>4338</th>\n",
              "      <td>Hyundai Creta 1.6 CRDi SX Option</td>\n",
              "      <td>2016</td>\n",
              "      <td>865000</td>\n",
              "      <td>90000</td>\n",
              "      <td>Diesel</td>\n",
              "      <td>Individual</td>\n",
              "      <td>Manual</td>\n",
              "      <td>First Owner</td>\n",
              "    </tr>\n",
              "    <tr>\n",
              "      <th>4339</th>\n",
              "      <td>Renault KWID RXT</td>\n",
              "      <td>2016</td>\n",
              "      <td>225000</td>\n",
              "      <td>40000</td>\n",
              "      <td>Petrol</td>\n",
              "      <td>Individual</td>\n",
              "      <td>Manual</td>\n",
              "      <td>First Owner</td>\n",
              "    </tr>\n",
              "  </tbody>\n",
              "</table>\n",
              "<p>4340 rows × 8 columns</p>\n",
              "</div>\n",
              "      <button class=\"colab-df-convert\" onclick=\"convertToInteractive('df-16d3ae40-ed60-43e0-a981-7b2ea27f556e')\"\n",
              "              title=\"Convert this dataframe to an interactive table.\"\n",
              "              style=\"display:none;\">\n",
              "        \n",
              "  <svg xmlns=\"http://www.w3.org/2000/svg\" height=\"24px\"viewBox=\"0 0 24 24\"\n",
              "       width=\"24px\">\n",
              "    <path d=\"M0 0h24v24H0V0z\" fill=\"none\"/>\n",
              "    <path d=\"M18.56 5.44l.94 2.06.94-2.06 2.06-.94-2.06-.94-.94-2.06-.94 2.06-2.06.94zm-11 1L8.5 8.5l.94-2.06 2.06-.94-2.06-.94L8.5 2.5l-.94 2.06-2.06.94zm10 10l.94 2.06.94-2.06 2.06-.94-2.06-.94-.94-2.06-.94 2.06-2.06.94z\"/><path d=\"M17.41 7.96l-1.37-1.37c-.4-.4-.92-.59-1.43-.59-.52 0-1.04.2-1.43.59L10.3 9.45l-7.72 7.72c-.78.78-.78 2.05 0 2.83L4 21.41c.39.39.9.59 1.41.59.51 0 1.02-.2 1.41-.59l7.78-7.78 2.81-2.81c.8-.78.8-2.07 0-2.86zM5.41 20L4 18.59l7.72-7.72 1.47 1.35L5.41 20z\"/>\n",
              "  </svg>\n",
              "      </button>\n",
              "      \n",
              "  <style>\n",
              "    .colab-df-container {\n",
              "      display:flex;\n",
              "      flex-wrap:wrap;\n",
              "      gap: 12px;\n",
              "    }\n",
              "\n",
              "    .colab-df-convert {\n",
              "      background-color: #E8F0FE;\n",
              "      border: none;\n",
              "      border-radius: 50%;\n",
              "      cursor: pointer;\n",
              "      display: none;\n",
              "      fill: #1967D2;\n",
              "      height: 32px;\n",
              "      padding: 0 0 0 0;\n",
              "      width: 32px;\n",
              "    }\n",
              "\n",
              "    .colab-df-convert:hover {\n",
              "      background-color: #E2EBFA;\n",
              "      box-shadow: 0px 1px 2px rgba(60, 64, 67, 0.3), 0px 1px 3px 1px rgba(60, 64, 67, 0.15);\n",
              "      fill: #174EA6;\n",
              "    }\n",
              "\n",
              "    [theme=dark] .colab-df-convert {\n",
              "      background-color: #3B4455;\n",
              "      fill: #D2E3FC;\n",
              "    }\n",
              "\n",
              "    [theme=dark] .colab-df-convert:hover {\n",
              "      background-color: #434B5C;\n",
              "      box-shadow: 0px 1px 3px 1px rgba(0, 0, 0, 0.15);\n",
              "      filter: drop-shadow(0px 1px 2px rgba(0, 0, 0, 0.3));\n",
              "      fill: #FFFFFF;\n",
              "    }\n",
              "  </style>\n",
              "\n",
              "      <script>\n",
              "        const buttonEl =\n",
              "          document.querySelector('#df-16d3ae40-ed60-43e0-a981-7b2ea27f556e button.colab-df-convert');\n",
              "        buttonEl.style.display =\n",
              "          google.colab.kernel.accessAllowed ? 'block' : 'none';\n",
              "\n",
              "        async function convertToInteractive(key) {\n",
              "          const element = document.querySelector('#df-16d3ae40-ed60-43e0-a981-7b2ea27f556e');\n",
              "          const dataTable =\n",
              "            await google.colab.kernel.invokeFunction('convertToInteractive',\n",
              "                                                     [key], {});\n",
              "          if (!dataTable) return;\n",
              "\n",
              "          const docLinkHtml = 'Like what you see? Visit the ' +\n",
              "            '<a target=\"_blank\" href=https://colab.research.google.com/notebooks/data_table.ipynb>data table notebook</a>'\n",
              "            + ' to learn more about interactive tables.';\n",
              "          element.innerHTML = '';\n",
              "          dataTable['output_type'] = 'display_data';\n",
              "          await google.colab.output.renderOutput(dataTable, element);\n",
              "          const docLink = document.createElement('div');\n",
              "          docLink.innerHTML = docLinkHtml;\n",
              "          element.appendChild(docLink);\n",
              "        }\n",
              "      </script>\n",
              "    </div>\n",
              "  </div>\n",
              "  "
            ]
          },
          "metadata": {},
          "execution_count": 3
        }
      ],
      "source": [
        "data = pd.read_csv('Your File path')\n",
        "data"
      ]
    },
    {
      "cell_type": "markdown",
      "metadata": {
        "id": "a1ZZkS3HU9Y3"
      },
      "source": [
        "##Analyzing Data"
      ]
    },
    {
      "cell_type": "code",
      "execution_count": 4,
      "metadata": {
        "colab": {
          "base_uri": "https://localhost:8080/",
          "height": 206
        },
        "id": "yTmEe-XBU7K9",
        "outputId": "ef5d0559-72a6-4e8f-a9dd-b660a76a6030"
      },
      "outputs": [
        {
          "output_type": "execute_result",
          "data": {
            "text/plain": [
              "<pandas.io.formats.style.Styler at 0x7fd2a6259ad0>"
            ],
            "text/html": [
              "<style type=\"text/css\">\n",
              "#T_6e383_row0_col1, #T_6e383_row0_col2, #T_6e383_row1_col1, #T_6e383_row3_col3 {\n",
              "  background-color: #440154;\n",
              "  color: #f1f1f1;\n",
              "}\n",
              "#T_6e383_row0_col3 {\n",
              "  background-color: #3b528b;\n",
              "  color: #f1f1f1;\n",
              "}\n",
              "#T_6e383_row1_col2 {\n",
              "  background-color: #46307e;\n",
              "  color: #f1f1f1;\n",
              "}\n",
              "#T_6e383_row1_col3 {\n",
              "  background-color: #471063;\n",
              "  color: #f1f1f1;\n",
              "}\n",
              "#T_6e383_row2_col1 {\n",
              "  background-color: #21918c;\n",
              "  color: #f1f1f1;\n",
              "}\n",
              "#T_6e383_row2_col2, #T_6e383_row3_col1, #T_6e383_row4_col3 {\n",
              "  background-color: #fde725;\n",
              "  color: #000000;\n",
              "}\n",
              "#T_6e383_row2_col3 {\n",
              "  background-color: #1fa188;\n",
              "  color: #f1f1f1;\n",
              "}\n",
              "#T_6e383_row3_col2 {\n",
              "  background-color: #2e6d8e;\n",
              "  color: #f1f1f1;\n",
              "}\n",
              "#T_6e383_row4_col1 {\n",
              "  background-color: #44bf70;\n",
              "  color: #f1f1f1;\n",
              "}\n",
              "#T_6e383_row4_col2 {\n",
              "  background-color: #4ec36b;\n",
              "  color: #000000;\n",
              "}\n",
              "</style>\n",
              "<table id=\"T_6e383_\" class=\"dataframe\">\n",
              "  <thead>\n",
              "    <tr>\n",
              "      <th class=\"blank level0\" >&nbsp;</th>\n",
              "      <th class=\"col_heading level0 col0\" >name</th>\n",
              "      <th class=\"col_heading level0 col1\" >year</th>\n",
              "      <th class=\"col_heading level0 col2\" >selling_price</th>\n",
              "      <th class=\"col_heading level0 col3\" >km_driven</th>\n",
              "      <th class=\"col_heading level0 col4\" >fuel</th>\n",
              "      <th class=\"col_heading level0 col5\" >seller_type</th>\n",
              "      <th class=\"col_heading level0 col6\" >transmission</th>\n",
              "      <th class=\"col_heading level0 col7\" >owner</th>\n",
              "    </tr>\n",
              "  </thead>\n",
              "  <tbody>\n",
              "    <tr>\n",
              "      <th id=\"T_6e383_level0_row0\" class=\"row_heading level0 row0\" >0</th>\n",
              "      <td id=\"T_6e383_row0_col0\" class=\"data row0 col0\" >Maruti 800 AC</td>\n",
              "      <td id=\"T_6e383_row0_col1\" class=\"data row0 col1\" >2007</td>\n",
              "      <td id=\"T_6e383_row0_col2\" class=\"data row0 col2\" >60000</td>\n",
              "      <td id=\"T_6e383_row0_col3\" class=\"data row0 col3\" >70000</td>\n",
              "      <td id=\"T_6e383_row0_col4\" class=\"data row0 col4\" >Petrol</td>\n",
              "      <td id=\"T_6e383_row0_col5\" class=\"data row0 col5\" >Individual</td>\n",
              "      <td id=\"T_6e383_row0_col6\" class=\"data row0 col6\" >Manual</td>\n",
              "      <td id=\"T_6e383_row0_col7\" class=\"data row0 col7\" >First Owner</td>\n",
              "    </tr>\n",
              "    <tr>\n",
              "      <th id=\"T_6e383_level0_row1\" class=\"row_heading level0 row1\" >1</th>\n",
              "      <td id=\"T_6e383_row1_col0\" class=\"data row1 col0\" >Maruti Wagon R LXI Minor</td>\n",
              "      <td id=\"T_6e383_row1_col1\" class=\"data row1 col1\" >2007</td>\n",
              "      <td id=\"T_6e383_row1_col2\" class=\"data row1 col2\" >135000</td>\n",
              "      <td id=\"T_6e383_row1_col3\" class=\"data row1 col3\" >50000</td>\n",
              "      <td id=\"T_6e383_row1_col4\" class=\"data row1 col4\" >Petrol</td>\n",
              "      <td id=\"T_6e383_row1_col5\" class=\"data row1 col5\" >Individual</td>\n",
              "      <td id=\"T_6e383_row1_col6\" class=\"data row1 col6\" >Manual</td>\n",
              "      <td id=\"T_6e383_row1_col7\" class=\"data row1 col7\" >First Owner</td>\n",
              "    </tr>\n",
              "    <tr>\n",
              "      <th id=\"T_6e383_level0_row2\" class=\"row_heading level0 row2\" >2</th>\n",
              "      <td id=\"T_6e383_row2_col0\" class=\"data row2 col0\" >Hyundai Verna 1.6 SX</td>\n",
              "      <td id=\"T_6e383_row2_col1\" class=\"data row2 col1\" >2012</td>\n",
              "      <td id=\"T_6e383_row2_col2\" class=\"data row2 col2\" >600000</td>\n",
              "      <td id=\"T_6e383_row2_col3\" class=\"data row2 col3\" >100000</td>\n",
              "      <td id=\"T_6e383_row2_col4\" class=\"data row2 col4\" >Diesel</td>\n",
              "      <td id=\"T_6e383_row2_col5\" class=\"data row2 col5\" >Individual</td>\n",
              "      <td id=\"T_6e383_row2_col6\" class=\"data row2 col6\" >Manual</td>\n",
              "      <td id=\"T_6e383_row2_col7\" class=\"data row2 col7\" >First Owner</td>\n",
              "    </tr>\n",
              "    <tr>\n",
              "      <th id=\"T_6e383_level0_row3\" class=\"row_heading level0 row3\" >3</th>\n",
              "      <td id=\"T_6e383_row3_col0\" class=\"data row3 col0\" >Datsun RediGO T Option</td>\n",
              "      <td id=\"T_6e383_row3_col1\" class=\"data row3 col1\" >2017</td>\n",
              "      <td id=\"T_6e383_row3_col2\" class=\"data row3 col2\" >250000</td>\n",
              "      <td id=\"T_6e383_row3_col3\" class=\"data row3 col3\" >46000</td>\n",
              "      <td id=\"T_6e383_row3_col4\" class=\"data row3 col4\" >Petrol</td>\n",
              "      <td id=\"T_6e383_row3_col5\" class=\"data row3 col5\" >Individual</td>\n",
              "      <td id=\"T_6e383_row3_col6\" class=\"data row3 col6\" >Manual</td>\n",
              "      <td id=\"T_6e383_row3_col7\" class=\"data row3 col7\" >First Owner</td>\n",
              "    </tr>\n",
              "    <tr>\n",
              "      <th id=\"T_6e383_level0_row4\" class=\"row_heading level0 row4\" >4</th>\n",
              "      <td id=\"T_6e383_row4_col0\" class=\"data row4 col0\" >Honda Amaze VX i-DTEC</td>\n",
              "      <td id=\"T_6e383_row4_col1\" class=\"data row4 col1\" >2014</td>\n",
              "      <td id=\"T_6e383_row4_col2\" class=\"data row4 col2\" >450000</td>\n",
              "      <td id=\"T_6e383_row4_col3\" class=\"data row4 col3\" >141000</td>\n",
              "      <td id=\"T_6e383_row4_col4\" class=\"data row4 col4\" >Diesel</td>\n",
              "      <td id=\"T_6e383_row4_col5\" class=\"data row4 col5\" >Individual</td>\n",
              "      <td id=\"T_6e383_row4_col6\" class=\"data row4 col6\" >Manual</td>\n",
              "      <td id=\"T_6e383_row4_col7\" class=\"data row4 col7\" >Second Owner</td>\n",
              "    </tr>\n",
              "  </tbody>\n",
              "</table>\n"
            ]
          },
          "metadata": {},
          "execution_count": 4
        }
      ],
      "source": [
        "data.head().style.background_gradient(cmap = \"viridis\")"
      ]
    },
    {
      "cell_type": "code",
      "execution_count": 5,
      "metadata": {
        "colab": {
          "base_uri": "https://localhost:8080/",
          "height": 206
        },
        "id": "TAinOoUGhnR3",
        "outputId": "b7903482-48ad-419d-96fb-6d2f5da1a793"
      },
      "outputs": [
        {
          "output_type": "execute_result",
          "data": {
            "text/plain": [
              "                                     name  year  selling_price  km_driven  \\\n",
              "4335  Hyundai i20 Magna 1.4 CRDi (Diesel)  2014         409999      80000   \n",
              "4336           Hyundai i20 Magna 1.4 CRDi  2014         409999      80000   \n",
              "4337                  Maruti 800 AC BSIII  2009         110000      83000   \n",
              "4338     Hyundai Creta 1.6 CRDi SX Option  2016         865000      90000   \n",
              "4339                     Renault KWID RXT  2016         225000      40000   \n",
              "\n",
              "        fuel seller_type transmission         owner  \n",
              "4335  Diesel  Individual       Manual  Second Owner  \n",
              "4336  Diesel  Individual       Manual  Second Owner  \n",
              "4337  Petrol  Individual       Manual  Second Owner  \n",
              "4338  Diesel  Individual       Manual   First Owner  \n",
              "4339  Petrol  Individual       Manual   First Owner  "
            ],
            "text/html": [
              "\n",
              "  <div id=\"df-003148f7-aa85-40f9-b6d4-5abbe68ddd59\">\n",
              "    <div class=\"colab-df-container\">\n",
              "      <div>\n",
              "<style scoped>\n",
              "    .dataframe tbody tr th:only-of-type {\n",
              "        vertical-align: middle;\n",
              "    }\n",
              "\n",
              "    .dataframe tbody tr th {\n",
              "        vertical-align: top;\n",
              "    }\n",
              "\n",
              "    .dataframe thead th {\n",
              "        text-align: right;\n",
              "    }\n",
              "</style>\n",
              "<table border=\"1\" class=\"dataframe\">\n",
              "  <thead>\n",
              "    <tr style=\"text-align: right;\">\n",
              "      <th></th>\n",
              "      <th>name</th>\n",
              "      <th>year</th>\n",
              "      <th>selling_price</th>\n",
              "      <th>km_driven</th>\n",
              "      <th>fuel</th>\n",
              "      <th>seller_type</th>\n",
              "      <th>transmission</th>\n",
              "      <th>owner</th>\n",
              "    </tr>\n",
              "  </thead>\n",
              "  <tbody>\n",
              "    <tr>\n",
              "      <th>4335</th>\n",
              "      <td>Hyundai i20 Magna 1.4 CRDi (Diesel)</td>\n",
              "      <td>2014</td>\n",
              "      <td>409999</td>\n",
              "      <td>80000</td>\n",
              "      <td>Diesel</td>\n",
              "      <td>Individual</td>\n",
              "      <td>Manual</td>\n",
              "      <td>Second Owner</td>\n",
              "    </tr>\n",
              "    <tr>\n",
              "      <th>4336</th>\n",
              "      <td>Hyundai i20 Magna 1.4 CRDi</td>\n",
              "      <td>2014</td>\n",
              "      <td>409999</td>\n",
              "      <td>80000</td>\n",
              "      <td>Diesel</td>\n",
              "      <td>Individual</td>\n",
              "      <td>Manual</td>\n",
              "      <td>Second Owner</td>\n",
              "    </tr>\n",
              "    <tr>\n",
              "      <th>4337</th>\n",
              "      <td>Maruti 800 AC BSIII</td>\n",
              "      <td>2009</td>\n",
              "      <td>110000</td>\n",
              "      <td>83000</td>\n",
              "      <td>Petrol</td>\n",
              "      <td>Individual</td>\n",
              "      <td>Manual</td>\n",
              "      <td>Second Owner</td>\n",
              "    </tr>\n",
              "    <tr>\n",
              "      <th>4338</th>\n",
              "      <td>Hyundai Creta 1.6 CRDi SX Option</td>\n",
              "      <td>2016</td>\n",
              "      <td>865000</td>\n",
              "      <td>90000</td>\n",
              "      <td>Diesel</td>\n",
              "      <td>Individual</td>\n",
              "      <td>Manual</td>\n",
              "      <td>First Owner</td>\n",
              "    </tr>\n",
              "    <tr>\n",
              "      <th>4339</th>\n",
              "      <td>Renault KWID RXT</td>\n",
              "      <td>2016</td>\n",
              "      <td>225000</td>\n",
              "      <td>40000</td>\n",
              "      <td>Petrol</td>\n",
              "      <td>Individual</td>\n",
              "      <td>Manual</td>\n",
              "      <td>First Owner</td>\n",
              "    </tr>\n",
              "  </tbody>\n",
              "</table>\n",
              "</div>\n",
              "      <button class=\"colab-df-convert\" onclick=\"convertToInteractive('df-003148f7-aa85-40f9-b6d4-5abbe68ddd59')\"\n",
              "              title=\"Convert this dataframe to an interactive table.\"\n",
              "              style=\"display:none;\">\n",
              "        \n",
              "  <svg xmlns=\"http://www.w3.org/2000/svg\" height=\"24px\"viewBox=\"0 0 24 24\"\n",
              "       width=\"24px\">\n",
              "    <path d=\"M0 0h24v24H0V0z\" fill=\"none\"/>\n",
              "    <path d=\"M18.56 5.44l.94 2.06.94-2.06 2.06-.94-2.06-.94-.94-2.06-.94 2.06-2.06.94zm-11 1L8.5 8.5l.94-2.06 2.06-.94-2.06-.94L8.5 2.5l-.94 2.06-2.06.94zm10 10l.94 2.06.94-2.06 2.06-.94-2.06-.94-.94-2.06-.94 2.06-2.06.94z\"/><path d=\"M17.41 7.96l-1.37-1.37c-.4-.4-.92-.59-1.43-.59-.52 0-1.04.2-1.43.59L10.3 9.45l-7.72 7.72c-.78.78-.78 2.05 0 2.83L4 21.41c.39.39.9.59 1.41.59.51 0 1.02-.2 1.41-.59l7.78-7.78 2.81-2.81c.8-.78.8-2.07 0-2.86zM5.41 20L4 18.59l7.72-7.72 1.47 1.35L5.41 20z\"/>\n",
              "  </svg>\n",
              "      </button>\n",
              "      \n",
              "  <style>\n",
              "    .colab-df-container {\n",
              "      display:flex;\n",
              "      flex-wrap:wrap;\n",
              "      gap: 12px;\n",
              "    }\n",
              "\n",
              "    .colab-df-convert {\n",
              "      background-color: #E8F0FE;\n",
              "      border: none;\n",
              "      border-radius: 50%;\n",
              "      cursor: pointer;\n",
              "      display: none;\n",
              "      fill: #1967D2;\n",
              "      height: 32px;\n",
              "      padding: 0 0 0 0;\n",
              "      width: 32px;\n",
              "    }\n",
              "\n",
              "    .colab-df-convert:hover {\n",
              "      background-color: #E2EBFA;\n",
              "      box-shadow: 0px 1px 2px rgba(60, 64, 67, 0.3), 0px 1px 3px 1px rgba(60, 64, 67, 0.15);\n",
              "      fill: #174EA6;\n",
              "    }\n",
              "\n",
              "    [theme=dark] .colab-df-convert {\n",
              "      background-color: #3B4455;\n",
              "      fill: #D2E3FC;\n",
              "    }\n",
              "\n",
              "    [theme=dark] .colab-df-convert:hover {\n",
              "      background-color: #434B5C;\n",
              "      box-shadow: 0px 1px 3px 1px rgba(0, 0, 0, 0.15);\n",
              "      filter: drop-shadow(0px 1px 2px rgba(0, 0, 0, 0.3));\n",
              "      fill: #FFFFFF;\n",
              "    }\n",
              "  </style>\n",
              "\n",
              "      <script>\n",
              "        const buttonEl =\n",
              "          document.querySelector('#df-003148f7-aa85-40f9-b6d4-5abbe68ddd59 button.colab-df-convert');\n",
              "        buttonEl.style.display =\n",
              "          google.colab.kernel.accessAllowed ? 'block' : 'none';\n",
              "\n",
              "        async function convertToInteractive(key) {\n",
              "          const element = document.querySelector('#df-003148f7-aa85-40f9-b6d4-5abbe68ddd59');\n",
              "          const dataTable =\n",
              "            await google.colab.kernel.invokeFunction('convertToInteractive',\n",
              "                                                     [key], {});\n",
              "          if (!dataTable) return;\n",
              "\n",
              "          const docLinkHtml = 'Like what you see? Visit the ' +\n",
              "            '<a target=\"_blank\" href=https://colab.research.google.com/notebooks/data_table.ipynb>data table notebook</a>'\n",
              "            + ' to learn more about interactive tables.';\n",
              "          element.innerHTML = '';\n",
              "          dataTable['output_type'] = 'display_data';\n",
              "          await google.colab.output.renderOutput(dataTable, element);\n",
              "          const docLink = document.createElement('div');\n",
              "          docLink.innerHTML = docLinkHtml;\n",
              "          element.appendChild(docLink);\n",
              "        }\n",
              "      </script>\n",
              "    </div>\n",
              "  </div>\n",
              "  "
            ]
          },
          "metadata": {},
          "execution_count": 5
        }
      ],
      "source": [
        "data.tail()"
      ]
    },
    {
      "cell_type": "code",
      "execution_count": 6,
      "metadata": {
        "colab": {
          "base_uri": "https://localhost:8080/"
        },
        "id": "gYU4lNQ4h16I",
        "outputId": "6e71928d-b99c-45b1-d923-b5c8887add6c"
      },
      "outputs": [
        {
          "output_type": "execute_result",
          "data": {
            "text/plain": [
              "(4340, 8)"
            ]
          },
          "metadata": {},
          "execution_count": 6
        }
      ],
      "source": [
        "data.shape"
      ]
    },
    {
      "cell_type": "code",
      "execution_count": 7,
      "metadata": {
        "colab": {
          "base_uri": "https://localhost:8080/"
        },
        "id": "TLbEDKG_h_lw",
        "outputId": "e06630b7-4fc6-4317-bfe0-a8eb2feb42b2"
      },
      "outputs": [
        {
          "output_type": "execute_result",
          "data": {
            "text/plain": [
              "Index(['name', 'year', 'selling_price', 'km_driven', 'fuel', 'seller_type',\n",
              "       'transmission', 'owner'],\n",
              "      dtype='object')"
            ]
          },
          "metadata": {},
          "execution_count": 7
        }
      ],
      "source": [
        "data.columns"
      ]
    },
    {
      "cell_type": "code",
      "execution_count": 8,
      "metadata": {
        "colab": {
          "base_uri": "https://localhost:8080/"
        },
        "id": "UUKMNF45iZFN",
        "outputId": "cf8b1293-7428-47fc-f799-63dbbbc7af42"
      },
      "outputs": [
        {
          "output_type": "execute_result",
          "data": {
            "text/plain": [
              "name             0\n",
              "year             0\n",
              "selling_price    0\n",
              "km_driven        0\n",
              "fuel             0\n",
              "seller_type      0\n",
              "transmission     0\n",
              "owner            0\n",
              "dtype: int64"
            ]
          },
          "metadata": {},
          "execution_count": 8
        }
      ],
      "source": [
        "data.isnull().sum()"
      ]
    },
    {
      "cell_type": "code",
      "execution_count": 9,
      "metadata": {
        "colab": {
          "base_uri": "https://localhost:8080/",
          "height": 300
        },
        "id": "z4xYTBOHifOt",
        "outputId": "9e9c173c-a63d-45e9-8774-7f4edb82eda2"
      },
      "outputs": [
        {
          "output_type": "execute_result",
          "data": {
            "text/plain": [
              "<pandas.io.formats.style.Styler at 0x7fd2a6297dd0>"
            ],
            "text/html": [
              "<style type=\"text/css\">\n",
              "#T_f39b0_row0_col0, #T_f39b0_row7_col1, #T_f39b0_row7_col2 {\n",
              "  background-color: #fde725;\n",
              "  color: #000000;\n",
              "}\n",
              "#T_f39b0_row0_col1, #T_f39b0_row2_col0, #T_f39b0_row3_col1, #T_f39b0_row3_col2 {\n",
              "  background-color: #440154;\n",
              "  color: #f1f1f1;\n",
              "}\n",
              "#T_f39b0_row0_col2 {\n",
              "  background-color: #440256;\n",
              "  color: #f1f1f1;\n",
              "}\n",
              "#T_f39b0_row1_col0, #T_f39b0_row4_col0, #T_f39b0_row5_col0, #T_f39b0_row6_col0 {\n",
              "  background-color: #24878e;\n",
              "  color: #f1f1f1;\n",
              "}\n",
              "#T_f39b0_row1_col1, #T_f39b0_row2_col2 {\n",
              "  background-color: #481668;\n",
              "  color: #f1f1f1;\n",
              "}\n",
              "#T_f39b0_row1_col2 {\n",
              "  background-color: #481f70;\n",
              "  color: #f1f1f1;\n",
              "}\n",
              "#T_f39b0_row2_col1 {\n",
              "  background-color: #48186a;\n",
              "  color: #f1f1f1;\n",
              "}\n",
              "#T_f39b0_row3_col0 {\n",
              "  background-color: #24868e;\n",
              "  color: #f1f1f1;\n",
              "}\n",
              "#T_f39b0_row4_col1 {\n",
              "  background-color: #46085c;\n",
              "  color: #f1f1f1;\n",
              "}\n",
              "#T_f39b0_row4_col2 {\n",
              "  background-color: #471164;\n",
              "  color: #f1f1f1;\n",
              "}\n",
              "#T_f39b0_row5_col1 {\n",
              "  background-color: #470e61;\n",
              "  color: #f1f1f1;\n",
              "}\n",
              "#T_f39b0_row5_col2 {\n",
              "  background-color: #481c6e;\n",
              "  color: #f1f1f1;\n",
              "}\n",
              "#T_f39b0_row6_col1 {\n",
              "  background-color: #481a6c;\n",
              "  color: #f1f1f1;\n",
              "}\n",
              "#T_f39b0_row6_col2 {\n",
              "  background-color: #482878;\n",
              "  color: #f1f1f1;\n",
              "}\n",
              "#T_f39b0_row7_col0 {\n",
              "  background-color: #23888e;\n",
              "  color: #f1f1f1;\n",
              "}\n",
              "</style>\n",
              "<table id=\"T_f39b0_\" class=\"dataframe\">\n",
              "  <thead>\n",
              "    <tr>\n",
              "      <th class=\"blank level0\" >&nbsp;</th>\n",
              "      <th class=\"col_heading level0 col0\" >year</th>\n",
              "      <th class=\"col_heading level0 col1\" >selling_price</th>\n",
              "      <th class=\"col_heading level0 col2\" >km_driven</th>\n",
              "    </tr>\n",
              "  </thead>\n",
              "  <tbody>\n",
              "    <tr>\n",
              "      <th id=\"T_f39b0_level0_row0\" class=\"row_heading level0 row0\" >count</th>\n",
              "      <td id=\"T_f39b0_row0_col0\" class=\"data row0 col0\" >4340.000000</td>\n",
              "      <td id=\"T_f39b0_row0_col1\" class=\"data row0 col1\" >4340.000000</td>\n",
              "      <td id=\"T_f39b0_row0_col2\" class=\"data row0 col2\" >4340.000000</td>\n",
              "    </tr>\n",
              "    <tr>\n",
              "      <th id=\"T_f39b0_level0_row1\" class=\"row_heading level0 row1\" >mean</th>\n",
              "      <td id=\"T_f39b0_row1_col0\" class=\"data row1 col0\" >2013.090783</td>\n",
              "      <td id=\"T_f39b0_row1_col1\" class=\"data row1 col1\" >504127.311751</td>\n",
              "      <td id=\"T_f39b0_row1_col2\" class=\"data row1 col2\" >66215.777419</td>\n",
              "    </tr>\n",
              "    <tr>\n",
              "      <th id=\"T_f39b0_level0_row2\" class=\"row_heading level0 row2\" >std</th>\n",
              "      <td id=\"T_f39b0_row2_col0\" class=\"data row2 col0\" >4.215344</td>\n",
              "      <td id=\"T_f39b0_row2_col1\" class=\"data row2 col1\" >578548.736139</td>\n",
              "      <td id=\"T_f39b0_row2_col2\" class=\"data row2 col2\" >46644.102194</td>\n",
              "    </tr>\n",
              "    <tr>\n",
              "      <th id=\"T_f39b0_level0_row3\" class=\"row_heading level0 row3\" >min</th>\n",
              "      <td id=\"T_f39b0_row3_col0\" class=\"data row3 col0\" >1992.000000</td>\n",
              "      <td id=\"T_f39b0_row3_col1\" class=\"data row3 col1\" >20000.000000</td>\n",
              "      <td id=\"T_f39b0_row3_col2\" class=\"data row3 col2\" >1.000000</td>\n",
              "    </tr>\n",
              "    <tr>\n",
              "      <th id=\"T_f39b0_level0_row4\" class=\"row_heading level0 row4\" >25%</th>\n",
              "      <td id=\"T_f39b0_row4_col0\" class=\"data row4 col0\" >2011.000000</td>\n",
              "      <td id=\"T_f39b0_row4_col1\" class=\"data row4 col1\" >208749.750000</td>\n",
              "      <td id=\"T_f39b0_row4_col2\" class=\"data row4 col2\" >35000.000000</td>\n",
              "    </tr>\n",
              "    <tr>\n",
              "      <th id=\"T_f39b0_level0_row5\" class=\"row_heading level0 row5\" >50%</th>\n",
              "      <td id=\"T_f39b0_row5_col0\" class=\"data row5 col0\" >2014.000000</td>\n",
              "      <td id=\"T_f39b0_row5_col1\" class=\"data row5 col1\" >350000.000000</td>\n",
              "      <td id=\"T_f39b0_row5_col2\" class=\"data row5 col2\" >60000.000000</td>\n",
              "    </tr>\n",
              "    <tr>\n",
              "      <th id=\"T_f39b0_level0_row6\" class=\"row_heading level0 row6\" >75%</th>\n",
              "      <td id=\"T_f39b0_row6_col0\" class=\"data row6 col0\" >2016.000000</td>\n",
              "      <td id=\"T_f39b0_row6_col1\" class=\"data row6 col1\" >600000.000000</td>\n",
              "      <td id=\"T_f39b0_row6_col2\" class=\"data row6 col2\" >90000.000000</td>\n",
              "    </tr>\n",
              "    <tr>\n",
              "      <th id=\"T_f39b0_level0_row7\" class=\"row_heading level0 row7\" >max</th>\n",
              "      <td id=\"T_f39b0_row7_col0\" class=\"data row7 col0\" >2020.000000</td>\n",
              "      <td id=\"T_f39b0_row7_col1\" class=\"data row7 col1\" >8900000.000000</td>\n",
              "      <td id=\"T_f39b0_row7_col2\" class=\"data row7 col2\" >806599.000000</td>\n",
              "    </tr>\n",
              "  </tbody>\n",
              "</table>\n"
            ]
          },
          "metadata": {},
          "execution_count": 9
        }
      ],
      "source": [
        "data.describe().style.background_gradient(cmap = \"viridis\")"
      ]
    },
    {
      "cell_type": "markdown",
      "metadata": {
        "id": "Dqu-yLk7XtLD"
      },
      "source": [
        "##Number of Rows in Data and Columns in Data"
      ]
    },
    {
      "cell_type": "code",
      "execution_count": 10,
      "metadata": {
        "colab": {
          "base_uri": "https://localhost:8080/"
        },
        "id": "EzpLl8A9VKkk",
        "outputId": "611a7d44-f94c-4d08-e347-6cec36beeb77"
      },
      "outputs": [
        {
          "output_type": "stream",
          "name": "stdout",
          "text": [
            "The number of rows in train data is 4340, and the number of columns in train data is 8\n"
          ]
        }
      ],
      "source": [
        "print(\"The number of rows in train data is {0}, and the number of columns in train data is {1}\".format(data.shape[0], data.shape[1]))"
      ]
    },
    {
      "cell_type": "code",
      "execution_count": 11,
      "metadata": {
        "colab": {
          "base_uri": "https://localhost:8080/"
        },
        "id": "oWNPhiEqXq0Z",
        "outputId": "08dd8639-fce6-467c-deda-925e0a51f238"
      },
      "outputs": [
        {
          "output_type": "stream",
          "name": "stdout",
          "text": [
            "<class 'pandas.core.frame.DataFrame'>\n",
            "RangeIndex: 4340 entries, 0 to 4339\n",
            "Data columns (total 8 columns):\n",
            " #   Column         Non-Null Count  Dtype \n",
            "---  ------         --------------  ----- \n",
            " 0   name           4340 non-null   object\n",
            " 1   year           4340 non-null   int64 \n",
            " 2   selling_price  4340 non-null   int64 \n",
            " 3   km_driven      4340 non-null   int64 \n",
            " 4   fuel           4340 non-null   object\n",
            " 5   seller_type    4340 non-null   object\n",
            " 6   transmission   4340 non-null   object\n",
            " 7   owner          4340 non-null   object\n",
            "dtypes: int64(3), object(5)\n",
            "memory usage: 271.4+ KB\n"
          ]
        }
      ],
      "source": [
        "data.info()"
      ]
    },
    {
      "cell_type": "markdown",
      "metadata": {
        "id": "2Iyy1QqUiqDU"
      },
      "source": [
        "##To Find Out the age of the cars we're gonna add another column and the value of that column will be `Current Year` - `Manufacturing Year` = `Age` "
      ]
    },
    {
      "cell_type": "code",
      "execution_count": 12,
      "metadata": {
        "id": "kyWcRsvKahSQ"
      },
      "outputs": [],
      "source": [
        "data[\"car_age\"] = (datetime.datetime.now().year) - (data[\"year\"])"
      ]
    },
    {
      "cell_type": "code",
      "execution_count": 13,
      "metadata": {
        "colab": {
          "base_uri": "https://localhost:8080/",
          "height": 206
        },
        "id": "REM3pRz_kQ1l",
        "outputId": "ca35252a-7a1c-4093-8601-a68a1704c11f"
      },
      "outputs": [
        {
          "output_type": "execute_result",
          "data": {
            "text/plain": [
              "<pandas.io.formats.style.Styler at 0x7fd2a5f2e550>"
            ],
            "text/html": [
              "<style type=\"text/css\">\n",
              "#T_38f78_row0_col1, #T_38f78_row0_col2, #T_38f78_row1_col1, #T_38f78_row3_col3, #T_38f78_row3_col8 {\n",
              "  background-color: #440154;\n",
              "  color: #f1f1f1;\n",
              "}\n",
              "#T_38f78_row0_col3 {\n",
              "  background-color: #3b528b;\n",
              "  color: #f1f1f1;\n",
              "}\n",
              "#T_38f78_row0_col8, #T_38f78_row1_col8, #T_38f78_row2_col2, #T_38f78_row3_col1, #T_38f78_row4_col3 {\n",
              "  background-color: #fde725;\n",
              "  color: #000000;\n",
              "}\n",
              "#T_38f78_row1_col2 {\n",
              "  background-color: #46307e;\n",
              "  color: #f1f1f1;\n",
              "}\n",
              "#T_38f78_row1_col3 {\n",
              "  background-color: #471063;\n",
              "  color: #f1f1f1;\n",
              "}\n",
              "#T_38f78_row2_col1, #T_38f78_row2_col8 {\n",
              "  background-color: #21918c;\n",
              "  color: #f1f1f1;\n",
              "}\n",
              "#T_38f78_row2_col3 {\n",
              "  background-color: #1fa188;\n",
              "  color: #f1f1f1;\n",
              "}\n",
              "#T_38f78_row3_col2 {\n",
              "  background-color: #2e6d8e;\n",
              "  color: #f1f1f1;\n",
              "}\n",
              "#T_38f78_row4_col1 {\n",
              "  background-color: #44bf70;\n",
              "  color: #f1f1f1;\n",
              "}\n",
              "#T_38f78_row4_col2 {\n",
              "  background-color: #4ec36b;\n",
              "  color: #000000;\n",
              "}\n",
              "#T_38f78_row4_col8 {\n",
              "  background-color: #355f8d;\n",
              "  color: #f1f1f1;\n",
              "}\n",
              "</style>\n",
              "<table id=\"T_38f78_\" class=\"dataframe\">\n",
              "  <thead>\n",
              "    <tr>\n",
              "      <th class=\"blank level0\" >&nbsp;</th>\n",
              "      <th class=\"col_heading level0 col0\" >name</th>\n",
              "      <th class=\"col_heading level0 col1\" >year</th>\n",
              "      <th class=\"col_heading level0 col2\" >selling_price</th>\n",
              "      <th class=\"col_heading level0 col3\" >km_driven</th>\n",
              "      <th class=\"col_heading level0 col4\" >fuel</th>\n",
              "      <th class=\"col_heading level0 col5\" >seller_type</th>\n",
              "      <th class=\"col_heading level0 col6\" >transmission</th>\n",
              "      <th class=\"col_heading level0 col7\" >owner</th>\n",
              "      <th class=\"col_heading level0 col8\" >car_age</th>\n",
              "    </tr>\n",
              "  </thead>\n",
              "  <tbody>\n",
              "    <tr>\n",
              "      <th id=\"T_38f78_level0_row0\" class=\"row_heading level0 row0\" >0</th>\n",
              "      <td id=\"T_38f78_row0_col0\" class=\"data row0 col0\" >Maruti 800 AC</td>\n",
              "      <td id=\"T_38f78_row0_col1\" class=\"data row0 col1\" >2007</td>\n",
              "      <td id=\"T_38f78_row0_col2\" class=\"data row0 col2\" >60000</td>\n",
              "      <td id=\"T_38f78_row0_col3\" class=\"data row0 col3\" >70000</td>\n",
              "      <td id=\"T_38f78_row0_col4\" class=\"data row0 col4\" >Petrol</td>\n",
              "      <td id=\"T_38f78_row0_col5\" class=\"data row0 col5\" >Individual</td>\n",
              "      <td id=\"T_38f78_row0_col6\" class=\"data row0 col6\" >Manual</td>\n",
              "      <td id=\"T_38f78_row0_col7\" class=\"data row0 col7\" >First Owner</td>\n",
              "      <td id=\"T_38f78_row0_col8\" class=\"data row0 col8\" >15</td>\n",
              "    </tr>\n",
              "    <tr>\n",
              "      <th id=\"T_38f78_level0_row1\" class=\"row_heading level0 row1\" >1</th>\n",
              "      <td id=\"T_38f78_row1_col0\" class=\"data row1 col0\" >Maruti Wagon R LXI Minor</td>\n",
              "      <td id=\"T_38f78_row1_col1\" class=\"data row1 col1\" >2007</td>\n",
              "      <td id=\"T_38f78_row1_col2\" class=\"data row1 col2\" >135000</td>\n",
              "      <td id=\"T_38f78_row1_col3\" class=\"data row1 col3\" >50000</td>\n",
              "      <td id=\"T_38f78_row1_col4\" class=\"data row1 col4\" >Petrol</td>\n",
              "      <td id=\"T_38f78_row1_col5\" class=\"data row1 col5\" >Individual</td>\n",
              "      <td id=\"T_38f78_row1_col6\" class=\"data row1 col6\" >Manual</td>\n",
              "      <td id=\"T_38f78_row1_col7\" class=\"data row1 col7\" >First Owner</td>\n",
              "      <td id=\"T_38f78_row1_col8\" class=\"data row1 col8\" >15</td>\n",
              "    </tr>\n",
              "    <tr>\n",
              "      <th id=\"T_38f78_level0_row2\" class=\"row_heading level0 row2\" >2</th>\n",
              "      <td id=\"T_38f78_row2_col0\" class=\"data row2 col0\" >Hyundai Verna 1.6 SX</td>\n",
              "      <td id=\"T_38f78_row2_col1\" class=\"data row2 col1\" >2012</td>\n",
              "      <td id=\"T_38f78_row2_col2\" class=\"data row2 col2\" >600000</td>\n",
              "      <td id=\"T_38f78_row2_col3\" class=\"data row2 col3\" >100000</td>\n",
              "      <td id=\"T_38f78_row2_col4\" class=\"data row2 col4\" >Diesel</td>\n",
              "      <td id=\"T_38f78_row2_col5\" class=\"data row2 col5\" >Individual</td>\n",
              "      <td id=\"T_38f78_row2_col6\" class=\"data row2 col6\" >Manual</td>\n",
              "      <td id=\"T_38f78_row2_col7\" class=\"data row2 col7\" >First Owner</td>\n",
              "      <td id=\"T_38f78_row2_col8\" class=\"data row2 col8\" >10</td>\n",
              "    </tr>\n",
              "    <tr>\n",
              "      <th id=\"T_38f78_level0_row3\" class=\"row_heading level0 row3\" >3</th>\n",
              "      <td id=\"T_38f78_row3_col0\" class=\"data row3 col0\" >Datsun RediGO T Option</td>\n",
              "      <td id=\"T_38f78_row3_col1\" class=\"data row3 col1\" >2017</td>\n",
              "      <td id=\"T_38f78_row3_col2\" class=\"data row3 col2\" >250000</td>\n",
              "      <td id=\"T_38f78_row3_col3\" class=\"data row3 col3\" >46000</td>\n",
              "      <td id=\"T_38f78_row3_col4\" class=\"data row3 col4\" >Petrol</td>\n",
              "      <td id=\"T_38f78_row3_col5\" class=\"data row3 col5\" >Individual</td>\n",
              "      <td id=\"T_38f78_row3_col6\" class=\"data row3 col6\" >Manual</td>\n",
              "      <td id=\"T_38f78_row3_col7\" class=\"data row3 col7\" >First Owner</td>\n",
              "      <td id=\"T_38f78_row3_col8\" class=\"data row3 col8\" >5</td>\n",
              "    </tr>\n",
              "    <tr>\n",
              "      <th id=\"T_38f78_level0_row4\" class=\"row_heading level0 row4\" >4</th>\n",
              "      <td id=\"T_38f78_row4_col0\" class=\"data row4 col0\" >Honda Amaze VX i-DTEC</td>\n",
              "      <td id=\"T_38f78_row4_col1\" class=\"data row4 col1\" >2014</td>\n",
              "      <td id=\"T_38f78_row4_col2\" class=\"data row4 col2\" >450000</td>\n",
              "      <td id=\"T_38f78_row4_col3\" class=\"data row4 col3\" >141000</td>\n",
              "      <td id=\"T_38f78_row4_col4\" class=\"data row4 col4\" >Diesel</td>\n",
              "      <td id=\"T_38f78_row4_col5\" class=\"data row4 col5\" >Individual</td>\n",
              "      <td id=\"T_38f78_row4_col6\" class=\"data row4 col6\" >Manual</td>\n",
              "      <td id=\"T_38f78_row4_col7\" class=\"data row4 col7\" >Second Owner</td>\n",
              "      <td id=\"T_38f78_row4_col8\" class=\"data row4 col8\" >8</td>\n",
              "    </tr>\n",
              "  </tbody>\n",
              "</table>\n"
            ]
          },
          "metadata": {},
          "execution_count": 13
        }
      ],
      "source": [
        "data.head().style.background_gradient(cmap = \"viridis\")"
      ]
    },
    {
      "cell_type": "markdown",
      "metadata": {
        "id": "kwkoipt0koHJ"
      },
      "source": [
        "##Checking the distributions of `Categorical Data`"
      ]
    },
    {
      "cell_type": "code",
      "execution_count": 14,
      "metadata": {
        "colab": {
          "base_uri": "https://localhost:8080/"
        },
        "id": "7EKfLGqmkTS6",
        "outputId": "59f8379e-ba02-4834-b287-aff1fbb4ab8d"
      },
      "outputs": [
        {
          "output_type": "execute_result",
          "data": {
            "text/plain": [
              "Index(['name', 'year', 'selling_price', 'km_driven', 'fuel', 'seller_type',\n",
              "       'transmission', 'owner', 'car_age'],\n",
              "      dtype='object')"
            ]
          },
          "metadata": {},
          "execution_count": 14
        }
      ],
      "source": [
        "data.columns"
      ]
    },
    {
      "cell_type": "code",
      "execution_count": 15,
      "metadata": {
        "colab": {
          "base_uri": "https://localhost:8080/"
        },
        "id": "3BdU59JBkybJ",
        "outputId": "2e2dd5ed-3a14-4d2e-ab07-a2cff4f7d8cc"
      },
      "outputs": [
        {
          "output_type": "stream",
          "name": "stdout",
          "text": [
            "Diesel      2153\n",
            "Petrol      2123\n",
            "CNG           40\n",
            "LPG           23\n",
            "Electric       1\n",
            "Name: fuel, dtype: int64\n",
            "Individual          3244\n",
            "Dealer               994\n",
            "Trustmark Dealer     102\n",
            "Name: seller_type, dtype: int64\n",
            "Manual       3892\n",
            "Automatic     448\n",
            "Name: transmission, dtype: int64\n",
            "First Owner             2832\n",
            "Second Owner            1106\n",
            "Third Owner              304\n",
            "Fourth & Above Owner      81\n",
            "Test Drive Car            17\n",
            "Name: owner, dtype: int64\n"
          ]
        }
      ],
      "source": [
        "print(data.fuel.value_counts())\n",
        "print(data.seller_type.value_counts())\n",
        "print(data.transmission.value_counts())\n",
        "print(data.owner.value_counts())"
      ]
    },
    {
      "cell_type": "code",
      "execution_count": 16,
      "metadata": {
        "colab": {
          "base_uri": "https://localhost:8080/",
          "height": 435
        },
        "id": "zD_JM7wtlQGN",
        "outputId": "6fa601ca-6600-481c-9f76-ae132e7d7192"
      },
      "outputs": [
        {
          "output_type": "display_data",
          "data": {
            "text/plain": [
              "<Figure size 864x216 with 2 Axes>"
            ],
            "image/png": "[encoded data removed]"
          },
          "metadata": {
            "needs_background": "light"
          }
        },
        {
          "output_type": "display_data",
          "data": {
            "text/plain": [
              "<Figure size 864x216 with 2 Axes>"
            ],
            "image/png": "[encoded data removed]"
          },
          "metadata": {
            "needs_background": "light"
          }
        }
      ],
      "source": [
        "cat_col = ['fuel','seller_type','transmission','owner']\n",
        "i=0\n",
        "while i < 4:\n",
        "    fig = plt.figure(figsize=[12,3])\n",
        " \n",
        "    plt.subplot(1,2,1)\n",
        "    sns.countplot(x=cat_col[i], data=data,palette='viridis')\n",
        "    i += 1\n",
        "    \n",
        "    plt.subplot(1,2,2)\n",
        "    sns.countplot(x=cat_col[i], data=data,palette='autumn')\n",
        "    i += 1\n",
        "    \n",
        "    plt.show()"
      ]
    },
    {
      "cell_type": "code",
      "execution_count": 17,
      "metadata": {
        "colab": {
          "base_uri": "https://localhost:8080/",
          "height": 726
        },
        "id": "UkS1o3fWllTM",
        "outputId": "ca973fcb-25eb-4cb5-8a93-25ed11c37e40"
      },
      "outputs": [
        {
          "output_type": "display_data",
          "data": {
            "text/plain": [
              "<Figure size 720x720 with 20 Axes>"
            ],
            "image/png": "[encoded data removed]"
          },
          "metadata": {
            "needs_background": "light"
          }
        }
      ],
      "source": [
        "sns.pairplot(data)\n",
        "plt.show()"
      ]
    },
    {
      "cell_type": "markdown",
      "metadata": {
        "id": "QxJZbU-5m8Cm"
      },
      "source": [
        "##Creating a HeatMap"
      ]
    },
    {
      "cell_type": "code",
      "execution_count": 18,
      "metadata": {
        "colab": {
          "base_uri": "https://localhost:8080/",
          "height": 397
        },
        "id": "F-hHGvz1mwaj",
        "outputId": "4ab04469-eb7f-4d34-c7df-5c7104efd76c"
      },
      "outputs": [
        {
          "output_type": "execute_result",
          "data": {
            "text/plain": [
              "<matplotlib.axes._subplots.AxesSubplot at 0x7fd2a25126d0>"
            ]
          },
          "metadata": {},
          "execution_count": 18
        },
        {
          "output_type": "display_data",
          "data": {
            "text/plain": [
              "<Figure size 864x432 with 2 Axes>"
            ],
            "image/png": "[encoded data removed]"
          },
          "metadata": {
            "needs_background": "light"
          }
        }
      ],
      "source": [
        "correlations = data.corr()\n",
        "index=correlations.index\n",
        "plt.figure(figsize=(12,6))\n",
        "sns.heatmap(data[index].corr(),annot=True,cmap=\"YlGnBu\")"
      ]
    },
    {
      "cell_type": "markdown",
      "metadata": {
        "id": "lYBIEmcgUn_W"
      },
      "source": [
        "##Adding a column with car brand name to see number of cars by brand"
      ]
    },
    {
      "cell_type": "code",
      "execution_count": 19,
      "metadata": {
        "id": "Xq0stB4CnBh6"
      },
      "outputs": [],
      "source": [
        "#create 'car_brand_name' feature from 'name' feature\n",
        "\n",
        "data[\"car_brand_name\"] = data[\"name\"].str.extract('([^\\s]+)')\n",
        "data[\"car_brand_name\"] = data[\"car_brand_name\"].astype(\"category\")"
      ]
    },
    {
      "cell_type": "code",
      "execution_count": 20,
      "metadata": {
        "colab": {
          "base_uri": "https://localhost:8080/",
          "height": 206
        },
        "id": "U-K6H7rHUhMY",
        "outputId": "1d1f7faf-c69f-4e17-9baf-73b25726c958"
      },
      "outputs": [
        {
          "output_type": "execute_result",
          "data": {
            "text/plain": [
              "                       name  year  selling_price  km_driven    fuel  \\\n",
              "0             Maruti 800 AC  2007          60000      70000  Petrol   \n",
              "1  Maruti Wagon R LXI Minor  2007         135000      50000  Petrol   \n",
              "2      Hyundai Verna 1.6 SX  2012         600000     100000  Diesel   \n",
              "3    Datsun RediGO T Option  2017         250000      46000  Petrol   \n",
              "4     Honda Amaze VX i-DTEC  2014         450000     141000  Diesel   \n",
              "\n",
              "  seller_type transmission         owner  car_age car_brand_name  \n",
              "0  Individual       Manual   First Owner       15         Maruti  \n",
              "1  Individual       Manual   First Owner       15         Maruti  \n",
              "2  Individual       Manual   First Owner       10        Hyundai  \n",
              "3  Individual       Manual   First Owner        5         Datsun  \n",
              "4  Individual       Manual  Second Owner        8          Honda  "
            ],
            "text/html": [
              "\n",
              "  <div id=\"df-d0d35052-7c6a-44c4-8e25-da2fd0b63caa\">\n",
              "    <div class=\"colab-df-container\">\n",
              "      <div>\n",
              "<style scoped>\n",
              "    .dataframe tbody tr th:only-of-type {\n",
              "        vertical-align: middle;\n",
              "    }\n",
              "\n",
              "    .dataframe tbody tr th {\n",
              "        vertical-align: top;\n",
              "    }\n",
              "\n",
              "    .dataframe thead th {\n",
              "        text-align: right;\n",
              "    }\n",
              "</style>\n",
              "<table border=\"1\" class=\"dataframe\">\n",
              "  <thead>\n",
              "    <tr style=\"text-align: right;\">\n",
              "      <th></th>\n",
              "      <th>name</th>\n",
              "      <th>year</th>\n",
              "      <th>selling_price</th>\n",
              "      <th>km_driven</th>\n",
              "      <th>fuel</th>\n",
              "      <th>seller_type</th>\n",
              "      <th>transmission</th>\n",
              "      <th>owner</th>\n",
              "      <th>car_age</th>\n",
              "      <th>car_brand_name</th>\n",
              "    </tr>\n",
              "  </thead>\n",
              "  <tbody>\n",
              "    <tr>\n",
              "      <th>0</th>\n",
              "      <td>Maruti 800 AC</td>\n",
              "      <td>2007</td>\n",
              "      <td>60000</td>\n",
              "      <td>70000</td>\n",
              "      <td>Petrol</td>\n",
              "      <td>Individual</td>\n",
              "      <td>Manual</td>\n",
              "      <td>First Owner</td>\n",
              "      <td>15</td>\n",
              "      <td>Maruti</td>\n",
              "    </tr>\n",
              "    <tr>\n",
              "      <th>1</th>\n",
              "      <td>Maruti Wagon R LXI Minor</td>\n",
              "      <td>2007</td>\n",
              "      <td>135000</td>\n",
              "      <td>50000</td>\n",
              "      <td>Petrol</td>\n",
              "      <td>Individual</td>\n",
              "      <td>Manual</td>\n",
              "      <td>First Owner</td>\n",
              "      <td>15</td>\n",
              "      <td>Maruti</td>\n",
              "    </tr>\n",
              "    <tr>\n",
              "      <th>2</th>\n",
              "      <td>Hyundai Verna 1.6 SX</td>\n",
              "      <td>2012</td>\n",
              "      <td>600000</td>\n",
              "      <td>100000</td>\n",
              "      <td>Diesel</td>\n",
              "      <td>Individual</td>\n",
              "      <td>Manual</td>\n",
              "      <td>First Owner</td>\n",
              "      <td>10</td>\n",
              "      <td>Hyundai</td>\n",
              "    </tr>\n",
              "    <tr>\n",
              "      <th>3</th>\n",
              "      <td>Datsun RediGO T Option</td>\n",
              "      <td>2017</td>\n",
              "      <td>250000</td>\n",
              "      <td>46000</td>\n",
              "      <td>Petrol</td>\n",
              "      <td>Individual</td>\n",
              "      <td>Manual</td>\n",
              "      <td>First Owner</td>\n",
              "      <td>5</td>\n",
              "      <td>Datsun</td>\n",
              "    </tr>\n",
              "    <tr>\n",
              "      <th>4</th>\n",
              "      <td>Honda Amaze VX i-DTEC</td>\n",
              "      <td>2014</td>\n",
              "      <td>450000</td>\n",
              "      <td>141000</td>\n",
              "      <td>Diesel</td>\n",
              "      <td>Individual</td>\n",
              "      <td>Manual</td>\n",
              "      <td>Second Owner</td>\n",
              "      <td>8</td>\n",
              "      <td>Honda</td>\n",
              "    </tr>\n",
              "  </tbody>\n",
              "</table>\n",
              "</div>\n",
              "      <button class=\"colab-df-convert\" onclick=\"convertToInteractive('df-d0d35052-7c6a-44c4-8e25-da2fd0b63caa')\"\n",
              "              title=\"Convert this dataframe to an interactive table.\"\n",
              "              style=\"display:none;\">\n",
              "        \n",
              "  <svg xmlns=\"http://www.w3.org/2000/svg\" height=\"24px\"viewBox=\"0 0 24 24\"\n",
              "       width=\"24px\">\n",
              "    <path d=\"M0 0h24v24H0V0z\" fill=\"none\"/>\n",
              "    <path d=\"M18.56 5.44l.94 2.06.94-2.06 2.06-.94-2.06-.94-.94-2.06-.94 2.06-2.06.94zm-11 1L8.5 8.5l.94-2.06 2.06-.94-2.06-.94L8.5 2.5l-.94 2.06-2.06.94zm10 10l.94 2.06.94-2.06 2.06-.94-2.06-.94-.94-2.06-.94 2.06-2.06.94z\"/><path d=\"M17.41 7.96l-1.37-1.37c-.4-.4-.92-.59-1.43-.59-.52 0-1.04.2-1.43.59L10.3 9.45l-7.72 7.72c-.78.78-.78 2.05 0 2.83L4 21.41c.39.39.9.59 1.41.59.51 0 1.02-.2 1.41-.59l7.78-7.78 2.81-2.81c.8-.78.8-2.07 0-2.86zM5.41 20L4 18.59l7.72-7.72 1.47 1.35L5.41 20z\"/>\n",
              "  </svg>\n",
              "      </button>\n",
              "      \n",
              "  <style>\n",
              "    .colab-df-container {\n",
              "      display:flex;\n",
              "      flex-wrap:wrap;\n",
              "      gap: 12px;\n",
              "    }\n",
              "\n",
              "    .colab-df-convert {\n",
              "      background-color: #E8F0FE;\n",
              "      border: none;\n",
              "      border-radius: 50%;\n",
              "      cursor: pointer;\n",
              "      display: none;\n",
              "      fill: #1967D2;\n",
              "      height: 32px;\n",
              "      padding: 0 0 0 0;\n",
              "      width: 32px;\n",
              "    }\n",
              "\n",
              "    .colab-df-convert:hover {\n",
              "      background-color: #E2EBFA;\n",
              "      box-shadow: 0px 1px 2px rgba(60, 64, 67, 0.3), 0px 1px 3px 1px rgba(60, 64, 67, 0.15);\n",
              "      fill: #174EA6;\n",
              "    }\n",
              "\n",
              "    [theme=dark] .colab-df-convert {\n",
              "      background-color: #3B4455;\n",
              "      fill: #D2E3FC;\n",
              "    }\n",
              "\n",
              "    [theme=dark] .colab-df-convert:hover {\n",
              "      background-color: #434B5C;\n",
              "      box-shadow: 0px 1px 3px 1px rgba(0, 0, 0, 0.15);\n",
              "      filter: drop-shadow(0px 1px 2px rgba(0, 0, 0, 0.3));\n",
              "      fill: #FFFFFF;\n",
              "    }\n",
              "  </style>\n",
              "\n",
              "      <script>\n",
              "        const buttonEl =\n",
              "          document.querySelector('#df-d0d35052-7c6a-44c4-8e25-da2fd0b63caa button.colab-df-convert');\n",
              "        buttonEl.style.display =\n",
              "          google.colab.kernel.accessAllowed ? 'block' : 'none';\n",
              "\n",
              "        async function convertToInteractive(key) {\n",
              "          const element = document.querySelector('#df-d0d35052-7c6a-44c4-8e25-da2fd0b63caa');\n",
              "          const dataTable =\n",
              "            await google.colab.kernel.invokeFunction('convertToInteractive',\n",
              "                                                     [key], {});\n",
              "          if (!dataTable) return;\n",
              "\n",
              "          const docLinkHtml = 'Like what you see? Visit the ' +\n",
              "            '<a target=\"_blank\" href=https://colab.research.google.com/notebooks/data_table.ipynb>data table notebook</a>'\n",
              "            + ' to learn more about interactive tables.';\n",
              "          element.innerHTML = '';\n",
              "          dataTable['output_type'] = 'display_data';\n",
              "          await google.colab.output.renderOutput(dataTable, element);\n",
              "          const docLink = document.createElement('div');\n",
              "          docLink.innerHTML = docLinkHtml;\n",
              "          element.appendChild(docLink);\n",
              "        }\n",
              "      </script>\n",
              "    </div>\n",
              "  </div>\n",
              "  "
            ]
          },
          "metadata": {},
          "execution_count": 20
        }
      ],
      "source": [
        "data.head()"
      ]
    },
    {
      "cell_type": "code",
      "execution_count": 21,
      "metadata": {
        "colab": {
          "base_uri": "https://localhost:8080/"
        },
        "id": "coqqs9dST2XL",
        "outputId": "9222e2f2-8f2e-40a8-87a7-ebc84f73ac43"
      },
      "outputs": [
        {
          "output_type": "execute_result",
          "data": {
            "text/plain": [
              "Maruti           1280\n",
              "Hyundai           821\n",
              "Mahindra          365\n",
              "Tata              361\n",
              "Honda             252\n",
              "Ford              238\n",
              "Toyota            206\n",
              "Chevrolet         188\n",
              "Renault           146\n",
              "Volkswagen        107\n",
              "Skoda              68\n",
              "Nissan             64\n",
              "Audi               60\n",
              "BMW                39\n",
              "Fiat               37\n",
              "Datsun             37\n",
              "Mercedes-Benz      35\n",
              "Mitsubishi          6\n",
              "Jaguar              6\n",
              "Land                5\n",
              "Ambassador          4\n",
              "Volvo               4\n",
              "Jeep                3\n",
              "OpelCorsa           2\n",
              "MG                  2\n",
              "Isuzu               1\n",
              "Force               1\n",
              "Daewoo              1\n",
              "Kia                 1\n",
              "Name: car_brand_name, dtype: int64"
            ]
          },
          "metadata": {},
          "execution_count": 21
        }
      ],
      "source": [
        "data.car_brand_name.value_counts()"
      ]
    },
    {
      "cell_type": "markdown",
      "metadata": {
        "id": "nS265jLSVeK8"
      },
      "source": [
        "##Now dropping all columns that are unnecessary"
      ]
    },
    {
      "cell_type": "code",
      "execution_count": 22,
      "metadata": {
        "colab": {
          "base_uri": "https://localhost:8080/",
          "height": 206
        },
        "id": "DmBLW-hsUQX2",
        "outputId": "ee1eb768-b3c7-4817-e113-f91da5b7c6ef"
      },
      "outputs": [
        {
          "output_type": "execute_result",
          "data": {
            "text/plain": [
              "                       name  selling_price  km_driven    fuel seller_type  \\\n",
              "0             Maruti 800 AC          60000      70000  Petrol  Individual   \n",
              "1  Maruti Wagon R LXI Minor         135000      50000  Petrol  Individual   \n",
              "2      Hyundai Verna 1.6 SX         600000     100000  Diesel  Individual   \n",
              "3    Datsun RediGO T Option         250000      46000  Petrol  Individual   \n",
              "4     Honda Amaze VX i-DTEC         450000     141000  Diesel  Individual   \n",
              "\n",
              "  transmission         owner  car_age car_brand_name  \n",
              "0       Manual   First Owner       15         Maruti  \n",
              "1       Manual   First Owner       15         Maruti  \n",
              "2       Manual   First Owner       10        Hyundai  \n",
              "3       Manual   First Owner        5         Datsun  \n",
              "4       Manual  Second Owner        8          Honda  "
            ],
            "text/html": [
              "\n",
              "  <div id=\"df-c177f3e9-3265-47e6-b42b-95d4cb23f5a1\">\n",
              "    <div class=\"colab-df-container\">\n",
              "      <div>\n",
              "<style scoped>\n",
              "    .dataframe tbody tr th:only-of-type {\n",
              "        vertical-align: middle;\n",
              "    }\n",
              "\n",
              "    .dataframe tbody tr th {\n",
              "        vertical-align: top;\n",
              "    }\n",
              "\n",
              "    .dataframe thead th {\n",
              "        text-align: right;\n",
              "    }\n",
              "</style>\n",
              "<table border=\"1\" class=\"dataframe\">\n",
              "  <thead>\n",
              "    <tr style=\"text-align: right;\">\n",
              "      <th></th>\n",
              "      <th>name</th>\n",
              "      <th>selling_price</th>\n",
              "      <th>km_driven</th>\n",
              "      <th>fuel</th>\n",
              "      <th>seller_type</th>\n",
              "      <th>transmission</th>\n",
              "      <th>owner</th>\n",
              "      <th>car_age</th>\n",
              "      <th>car_brand_name</th>\n",
              "    </tr>\n",
              "  </thead>\n",
              "  <tbody>\n",
              "    <tr>\n",
              "      <th>0</th>\n",
              "      <td>Maruti 800 AC</td>\n",
              "      <td>60000</td>\n",
              "      <td>70000</td>\n",
              "      <td>Petrol</td>\n",
              "      <td>Individual</td>\n",
              "      <td>Manual</td>\n",
              "      <td>First Owner</td>\n",
              "      <td>15</td>\n",
              "      <td>Maruti</td>\n",
              "    </tr>\n",
              "    <tr>\n",
              "      <th>1</th>\n",
              "      <td>Maruti Wagon R LXI Minor</td>\n",
              "      <td>135000</td>\n",
              "      <td>50000</td>\n",
              "      <td>Petrol</td>\n",
              "      <td>Individual</td>\n",
              "      <td>Manual</td>\n",
              "      <td>First Owner</td>\n",
              "      <td>15</td>\n",
              "      <td>Maruti</td>\n",
              "    </tr>\n",
              "    <tr>\n",
              "      <th>2</th>\n",
              "      <td>Hyundai Verna 1.6 SX</td>\n",
              "      <td>600000</td>\n",
              "      <td>100000</td>\n",
              "      <td>Diesel</td>\n",
              "      <td>Individual</td>\n",
              "      <td>Manual</td>\n",
              "      <td>First Owner</td>\n",
              "      <td>10</td>\n",
              "      <td>Hyundai</td>\n",
              "    </tr>\n",
              "    <tr>\n",
              "      <th>3</th>\n",
              "      <td>Datsun RediGO T Option</td>\n",
              "      <td>250000</td>\n",
              "      <td>46000</td>\n",
              "      <td>Petrol</td>\n",
              "      <td>Individual</td>\n",
              "      <td>Manual</td>\n",
              "      <td>First Owner</td>\n",
              "      <td>5</td>\n",
              "      <td>Datsun</td>\n",
              "    </tr>\n",
              "    <tr>\n",
              "      <th>4</th>\n",
              "      <td>Honda Amaze VX i-DTEC</td>\n",
              "      <td>450000</td>\n",
              "      <td>141000</td>\n",
              "      <td>Diesel</td>\n",
              "      <td>Individual</td>\n",
              "      <td>Manual</td>\n",
              "      <td>Second Owner</td>\n",
              "      <td>8</td>\n",
              "      <td>Honda</td>\n",
              "    </tr>\n",
              "  </tbody>\n",
              "</table>\n",
              "</div>\n",
              "      <button class=\"colab-df-convert\" onclick=\"convertToInteractive('df-c177f3e9-3265-47e6-b42b-95d4cb23f5a1')\"\n",
              "              title=\"Convert this dataframe to an interactive table.\"\n",
              "              style=\"display:none;\">\n",
              "        \n",
              "  <svg xmlns=\"http://www.w3.org/2000/svg\" height=\"24px\"viewBox=\"0 0 24 24\"\n",
              "       width=\"24px\">\n",
              "    <path d=\"M0 0h24v24H0V0z\" fill=\"none\"/>\n",
              "    <path d=\"M18.56 5.44l.94 2.06.94-2.06 2.06-.94-2.06-.94-.94-2.06-.94 2.06-2.06.94zm-11 1L8.5 8.5l.94-2.06 2.06-.94-2.06-.94L8.5 2.5l-.94 2.06-2.06.94zm10 10l.94 2.06.94-2.06 2.06-.94-2.06-.94-.94-2.06-.94 2.06-2.06.94z\"/><path d=\"M17.41 7.96l-1.37-1.37c-.4-.4-.92-.59-1.43-.59-.52 0-1.04.2-1.43.59L10.3 9.45l-7.72 7.72c-.78.78-.78 2.05 0 2.83L4 21.41c.39.39.9.59 1.41.59.51 0 1.02-.2 1.41-.59l7.78-7.78 2.81-2.81c.8-.78.8-2.07 0-2.86zM5.41 20L4 18.59l7.72-7.72 1.47 1.35L5.41 20z\"/>\n",
              "  </svg>\n",
              "      </button>\n",
              "      \n",
              "  <style>\n",
              "    .colab-df-container {\n",
              "      display:flex;\n",
              "      flex-wrap:wrap;\n",
              "      gap: 12px;\n",
              "    }\n",
              "\n",
              "    .colab-df-convert {\n",
              "      background-color: #E8F0FE;\n",
              "      border: none;\n",
              "      border-radius: 50%;\n",
              "      cursor: pointer;\n",
              "      display: none;\n",
              "      fill: #1967D2;\n",
              "      height: 32px;\n",
              "      padding: 0 0 0 0;\n",
              "      width: 32px;\n",
              "    }\n",
              "\n",
              "    .colab-df-convert:hover {\n",
              "      background-color: #E2EBFA;\n",
              "      box-shadow: 0px 1px 2px rgba(60, 64, 67, 0.3), 0px 1px 3px 1px rgba(60, 64, 67, 0.15);\n",
              "      fill: #174EA6;\n",
              "    }\n",
              "\n",
              "    [theme=dark] .colab-df-convert {\n",
              "      background-color: #3B4455;\n",
              "      fill: #D2E3FC;\n",
              "    }\n",
              "\n",
              "    [theme=dark] .colab-df-convert:hover {\n",
              "      background-color: #434B5C;\n",
              "      box-shadow: 0px 1px 3px 1px rgba(0, 0, 0, 0.15);\n",
              "      filter: drop-shadow(0px 1px 2px rgba(0, 0, 0, 0.3));\n",
              "      fill: #FFFFFF;\n",
              "    }\n",
              "  </style>\n",
              "\n",
              "      <script>\n",
              "        const buttonEl =\n",
              "          document.querySelector('#df-c177f3e9-3265-47e6-b42b-95d4cb23f5a1 button.colab-df-convert');\n",
              "        buttonEl.style.display =\n",
              "          google.colab.kernel.accessAllowed ? 'block' : 'none';\n",
              "\n",
              "        async function convertToInteractive(key) {\n",
              "          const element = document.querySelector('#df-c177f3e9-3265-47e6-b42b-95d4cb23f5a1');\n",
              "          const dataTable =\n",
              "            await google.colab.kernel.invokeFunction('convertToInteractive',\n",
              "                                                     [key], {});\n",
              "          if (!dataTable) return;\n",
              "\n",
              "          const docLinkHtml = 'Like what you see? Visit the ' +\n",
              "            '<a target=\"_blank\" href=https://colab.research.google.com/notebooks/data_table.ipynb>data table notebook</a>'\n",
              "            + ' to learn more about interactive tables.';\n",
              "          element.innerHTML = '';\n",
              "          dataTable['output_type'] = 'display_data';\n",
              "          await google.colab.output.renderOutput(dataTable, element);\n",
              "          const docLink = document.createElement('div');\n",
              "          docLink.innerHTML = docLinkHtml;\n",
              "          element.appendChild(docLink);\n",
              "        }\n",
              "      </script>\n",
              "    </div>\n",
              "  </div>\n",
              "  "
            ]
          },
          "metadata": {},
          "execution_count": 22
        }
      ],
      "source": [
        "data.drop([\"year\"],axis=1,inplace=True)\n",
        "data.head()"
      ]
    },
    {
      "cell_type": "markdown",
      "metadata": {
        "id": "NZqH8IXrXNmw"
      },
      "source": [
        "##Changing categorical Values to Numerical Values\n"
      ]
    },
    {
      "cell_type": "code",
      "execution_count": 23,
      "metadata": {
        "id": "fQk95MVSXAQ5"
      },
      "outputs": [],
      "source": [
        "data.replace({'fuel':{'Petrol':0,'Diesel':1,'CNG':2,'LPG':3,'Electric':4}},inplace=True)\n",
        "data.replace({'seller_type':{'Dealer':0,'Individual':1,'Trustmark Dealer':2}},inplace=True)\n",
        "data.replace({'transmission':{'Manual':0,'Automatic':1}},inplace=True)\n",
        "data.replace({'owner':{'First Owner':0,'Second Owner':1,'Third Owner':2,'Fourth & Above Owner':3,'Test Drive Car':4}},inplace=True)"
      ]
    },
    {
      "cell_type": "code",
      "execution_count": 24,
      "metadata": {
        "colab": {
          "base_uri": "https://localhost:8080/",
          "height": 206
        },
        "id": "6Vnz01LHXjMj",
        "outputId": "2c6c2d8c-d193-4125-de32-182438a4dad8"
      },
      "outputs": [
        {
          "output_type": "execute_result",
          "data": {
            "text/plain": [
              "                       name  selling_price  km_driven  fuel  seller_type  \\\n",
              "0             Maruti 800 AC          60000      70000     0            1   \n",
              "1  Maruti Wagon R LXI Minor         135000      50000     0            1   \n",
              "2      Hyundai Verna 1.6 SX         600000     100000     1            1   \n",
              "3    Datsun RediGO T Option         250000      46000     0            1   \n",
              "4     Honda Amaze VX i-DTEC         450000     141000     1            1   \n",
              "\n",
              "   transmission  owner  car_age car_brand_name  \n",
              "0             0      0       15         Maruti  \n",
              "1             0      0       15         Maruti  \n",
              "2             0      0       10        Hyundai  \n",
              "3             0      0        5         Datsun  \n",
              "4             0      1        8          Honda  "
            ],
            "text/html": [
              "\n",
              "  <div id=\"df-c64faa2a-85b5-4ebc-8466-ad7ee6c8c6a1\">\n",
              "    <div class=\"colab-df-container\">\n",
              "      <div>\n",
              "<style scoped>\n",
              "    .dataframe tbody tr th:only-of-type {\n",
              "        vertical-align: middle;\n",
              "    }\n",
              "\n",
              "    .dataframe tbody tr th {\n",
              "        vertical-align: top;\n",
              "    }\n",
              "\n",
              "    .dataframe thead th {\n",
              "        text-align: right;\n",
              "    }\n",
              "</style>\n",
              "<table border=\"1\" class=\"dataframe\">\n",
              "  <thead>\n",
              "    <tr style=\"text-align: right;\">\n",
              "      <th></th>\n",
              "      <th>name</th>\n",
              "      <th>selling_price</th>\n",
              "      <th>km_driven</th>\n",
              "      <th>fuel</th>\n",
              "      <th>seller_type</th>\n",
              "      <th>transmission</th>\n",
              "      <th>owner</th>\n",
              "      <th>car_age</th>\n",
              "      <th>car_brand_name</th>\n",
              "    </tr>\n",
              "  </thead>\n",
              "  <tbody>\n",
              "    <tr>\n",
              "      <th>0</th>\n",
              "      <td>Maruti 800 AC</td>\n",
              "      <td>60000</td>\n",
              "      <td>70000</td>\n",
              "      <td>0</td>\n",
              "      <td>1</td>\n",
              "      <td>0</td>\n",
              "      <td>0</td>\n",
              "      <td>15</td>\n",
              "      <td>Maruti</td>\n",
              "    </tr>\n",
              "    <tr>\n",
              "      <th>1</th>\n",
              "      <td>Maruti Wagon R LXI Minor</td>\n",
              "      <td>135000</td>\n",
              "      <td>50000</td>\n",
              "      <td>0</td>\n",
              "      <td>1</td>\n",
              "      <td>0</td>\n",
              "      <td>0</td>\n",
              "      <td>15</td>\n",
              "      <td>Maruti</td>\n",
              "    </tr>\n",
              "    <tr>\n",
              "      <th>2</th>\n",
              "      <td>Hyundai Verna 1.6 SX</td>\n",
              "      <td>600000</td>\n",
              "      <td>100000</td>\n",
              "      <td>1</td>\n",
              "      <td>1</td>\n",
              "      <td>0</td>\n",
              "      <td>0</td>\n",
              "      <td>10</td>\n",
              "      <td>Hyundai</td>\n",
              "    </tr>\n",
              "    <tr>\n",
              "      <th>3</th>\n",
              "      <td>Datsun RediGO T Option</td>\n",
              "      <td>250000</td>\n",
              "      <td>46000</td>\n",
              "      <td>0</td>\n",
              "      <td>1</td>\n",
              "      <td>0</td>\n",
              "      <td>0</td>\n",
              "      <td>5</td>\n",
              "      <td>Datsun</td>\n",
              "    </tr>\n",
              "    <tr>\n",
              "      <th>4</th>\n",
              "      <td>Honda Amaze VX i-DTEC</td>\n",
              "      <td>450000</td>\n",
              "      <td>141000</td>\n",
              "      <td>1</td>\n",
              "      <td>1</td>\n",
              "      <td>0</td>\n",
              "      <td>1</td>\n",
              "      <td>8</td>\n",
              "      <td>Honda</td>\n",
              "    </tr>\n",
              "  </tbody>\n",
              "</table>\n",
              "</div>\n",
              "      <button class=\"colab-df-convert\" onclick=\"convertToInteractive('df-c64faa2a-85b5-4ebc-8466-ad7ee6c8c6a1')\"\n",
              "              title=\"Convert this dataframe to an interactive table.\"\n",
              "              style=\"display:none;\">\n",
              "        \n",
              "  <svg xmlns=\"http://www.w3.org/2000/svg\" height=\"24px\"viewBox=\"0 0 24 24\"\n",
              "       width=\"24px\">\n",
              "    <path d=\"M0 0h24v24H0V0z\" fill=\"none\"/>\n",
              "    <path d=\"M18.56 5.44l.94 2.06.94-2.06 2.06-.94-2.06-.94-.94-2.06-.94 2.06-2.06.94zm-11 1L8.5 8.5l.94-2.06 2.06-.94-2.06-.94L8.5 2.5l-.94 2.06-2.06.94zm10 10l.94 2.06.94-2.06 2.06-.94-2.06-.94-.94-2.06-.94 2.06-2.06.94z\"/><path d=\"M17.41 7.96l-1.37-1.37c-.4-.4-.92-.59-1.43-.59-.52 0-1.04.2-1.43.59L10.3 9.45l-7.72 7.72c-.78.78-.78 2.05 0 2.83L4 21.41c.39.39.9.59 1.41.59.51 0 1.02-.2 1.41-.59l7.78-7.78 2.81-2.81c.8-.78.8-2.07 0-2.86zM5.41 20L4 18.59l7.72-7.72 1.47 1.35L5.41 20z\"/>\n",
              "  </svg>\n",
              "      </button>\n",
              "      \n",
              "  <style>\n",
              "    .colab-df-container {\n",
              "      display:flex;\n",
              "      flex-wrap:wrap;\n",
              "      gap: 12px;\n",
              "    }\n",
              "\n",
              "    .colab-df-convert {\n",
              "      background-color: #E8F0FE;\n",
              "      border: none;\n",
              "      border-radius: 50%;\n",
              "      cursor: pointer;\n",
              "      display: none;\n",
              "      fill: #1967D2;\n",
              "      height: 32px;\n",
              "      padding: 0 0 0 0;\n",
              "      width: 32px;\n",
              "    }\n",
              "\n",
              "    .colab-df-convert:hover {\n",
              "      background-color: #E2EBFA;\n",
              "      box-shadow: 0px 1px 2px rgba(60, 64, 67, 0.3), 0px 1px 3px 1px rgba(60, 64, 67, 0.15);\n",
              "      fill: #174EA6;\n",
              "    }\n",
              "\n",
              "    [theme=dark] .colab-df-convert {\n",
              "      background-color: #3B4455;\n",
              "      fill: #D2E3FC;\n",
              "    }\n",
              "\n",
              "    [theme=dark] .colab-df-convert:hover {\n",
              "      background-color: #434B5C;\n",
              "      box-shadow: 0px 1px 3px 1px rgba(0, 0, 0, 0.15);\n",
              "      filter: drop-shadow(0px 1px 2px rgba(0, 0, 0, 0.3));\n",
              "      fill: #FFFFFF;\n",
              "    }\n",
              "  </style>\n",
              "\n",
              "      <script>\n",
              "        const buttonEl =\n",
              "          document.querySelector('#df-c64faa2a-85b5-4ebc-8466-ad7ee6c8c6a1 button.colab-df-convert');\n",
              "        buttonEl.style.display =\n",
              "          google.colab.kernel.accessAllowed ? 'block' : 'none';\n",
              "\n",
              "        async function convertToInteractive(key) {\n",
              "          const element = document.querySelector('#df-c64faa2a-85b5-4ebc-8466-ad7ee6c8c6a1');\n",
              "          const dataTable =\n",
              "            await google.colab.kernel.invokeFunction('convertToInteractive',\n",
              "                                                     [key], {});\n",
              "          if (!dataTable) return;\n",
              "\n",
              "          const docLinkHtml = 'Like what you see? Visit the ' +\n",
              "            '<a target=\"_blank\" href=https://colab.research.google.com/notebooks/data_table.ipynb>data table notebook</a>'\n",
              "            + ' to learn more about interactive tables.';\n",
              "          element.innerHTML = '';\n",
              "          dataTable['output_type'] = 'display_data';\n",
              "          await google.colab.output.renderOutput(dataTable, element);\n",
              "          const docLink = document.createElement('div');\n",
              "          docLink.innerHTML = docLinkHtml;\n",
              "          element.appendChild(docLink);\n",
              "        }\n",
              "      </script>\n",
              "    </div>\n",
              "  </div>\n",
              "  "
            ]
          },
          "metadata": {},
          "execution_count": 24
        }
      ],
      "source": [
        "data.head()"
      ]
    },
    {
      "cell_type": "code",
      "execution_count": 25,
      "metadata": {
        "colab": {
          "base_uri": "https://localhost:8080/",
          "height": 450
        },
        "id": "Tqs59beuX4rq",
        "outputId": "662ba0e2-c59f-4c18-e5bd-71d3dc4d1b96"
      },
      "outputs": [
        {
          "output_type": "execute_result",
          "data": {
            "text/plain": [
              "<matplotlib.axes._subplots.AxesSubplot at 0x7fd2a0baae10>"
            ]
          },
          "metadata": {},
          "execution_count": 25
        },
        {
          "output_type": "display_data",
          "data": {
            "text/plain": [
              "<Figure size 864x432 with 4 Axes>"
            ],
            "image/png": "[encoded data removed]"
          },
          "metadata": {
            "needs_background": "light"
          }
        }
      ],
      "source": [
        "fig, axes = plt.subplots(2, 2, figsize = (12,6))\n",
        "fig.suptitle('Visuallization of Numerical columns')\n",
        "\n",
        "sns.regplot(x = 'car_age', y = 'selling_price', data = data, ax = axes[0,0])\n",
        "sns.regplot(x = 'seller_type', y = 'selling_price', data = data, ax = axes[0,1])\n",
        "sns.regplot(x = 'km_driven', y = 'selling_price', data = data, ax = axes[1,0])\n",
        "sns.regplot(x = 'owner', y = 'selling_price', data = data, ax = axes[1,1])"
      ]
    },
    {
      "cell_type": "markdown",
      "metadata": {
        "id": "ADRZkzB4XrXo"
      },
      "source": [
        "#Now, Creating the data to train and test"
      ]
    },
    {
      "cell_type": "code",
      "execution_count": 26,
      "metadata": {
        "id": "hX_qPQj7Xkyp"
      },
      "outputs": [],
      "source": [
        "from sklearn.compose import make_column_transformer\n",
        "from sklearn.preprocessing import MinMaxScaler,OneHotEncoder\n",
        "from sklearn.model_selection import train_test_split\n",
        "import matplotlib.pyplot as plt\n",
        "\n",
        "#create column trasnformer\n",
        "ct = make_column_transformer(\n",
        "    (MinMaxScaler(),[\"km_driven\",\t\"fuel\",\t\"seller_type\",\t\"transmission\"\t,\"owner\",\t\"car_age\"\t]),\n",
        ")\n",
        "\n",
        "#Creating x and y\n",
        "x = data.drop(['name','selling_price','car_brand_name'],axis=1)\n",
        "y = data['selling_price']\n",
        "\n",
        "#Build our train and test sets()\n",
        "x_train,x_test,y_train,y_test = train_test_split(x,y,test_size = 0.2,random_state = 2)\n",
        "\n",
        "#Fit column transformer on the trainning data only.(doing so on test data would result in data leakage)\n",
        "ct.fit(x_train)\n",
        "\n",
        "#Transform trainning and test_data with normalization (MinMaxScaler) and one hot encoding(OneHotEncoder)\n",
        "x_train_normal = ct.transform(x_train)\n",
        "x_test_normal = ct.transform(x_test)"
      ]
    },
    {
      "cell_type": "markdown",
      "metadata": {
        "id": "a8LUpZ2ncOE4"
      },
      "source": [
        "##Building the model"
      ]
    },
    {
      "cell_type": "code",
      "execution_count": 65,
      "metadata": {
        "id": "40kHV7P-bxAA"
      },
      "outputs": [],
      "source": [
        "#1.) Creating the model\n",
        "price_prediction=tf.keras.Sequential([\n",
        "    tf.keras.layers.Dense(10000,activation=\"relu\"),\n",
        "    tf.keras.layers.Dense(100,activation=\"relu\"),\n",
        "    tf.keras.layers.Dense(10,activation=\"relu\"),\n",
        "    tf.keras.layers.Dense(1)\n",
        "])\n",
        "\n",
        "#2.) Model Compile\n",
        "price_prediction.compile(loss=tf.keras.losses.mae,\n",
        "                         optimizer = tf.keras.optimizers.Adam(learning_rate=0.001),\n",
        "                         metrics=[\"mae\"])\n",
        "\n",
        "#3.) Fit the model\n",
        "history_price = price_prediction.fit(x_train_normal,y_train,epochs=250,verbose=0)"
      ]
    },
    {
      "cell_type": "code",
      "source": [
        "# from sklearn.linear_model import LinearRegression\n",
        "# from sklearn import metrics\n",
        "\n",
        "# lin_reg_model = LinearRegression()\n",
        "# lin_reg_model.fit(x_train,y_train)\n"
      ],
      "metadata": {
        "id": "5FZesRsOV9B1"
      },
      "execution_count": 66,
      "outputs": []
    },
    {
      "cell_type": "code",
      "execution_count": 67,
      "metadata": {
        "colab": {
          "base_uri": "https://localhost:8080/",
          "height": 279
        },
        "id": "Y0tsih6v-VjI",
        "outputId": "d15f2123-fff3-4656-f436-8da630358af3"
      },
      "outputs": [
        {
          "output_type": "display_data",
          "data": {
            "text/plain": [
              "<Figure size 432x288 with 1 Axes>"
            ],
            "image/png": "[encoded data removed]"
          },
          "metadata": {
            "needs_background": "light"
          }
        }
      ],
      "source": [
        "# Plot history (also known as a loss curve)\n",
        "pd.DataFrame(history_price.history).plot()\n",
        "plt.ylabel(\"loss\")\n",
        "plt.xlabel(\"epochs\");"
      ]
    },
    {
      "cell_type": "code",
      "execution_count": 68,
      "metadata": {
        "colab": {
          "base_uri": "https://localhost:8080/"
        },
        "id": "StzFPMSQd2WE",
        "outputId": "c8b7f5c8-6d84-4fee-d1ec-6213238615d4"
      },
      "outputs": [
        {
          "output_type": "stream",
          "name": "stdout",
          "text": [
            "28/28 [==============================] - 0s 2ms/step - loss: 187215.9688 - mae: 187215.9688\n"
          ]
        }
      ],
      "source": [
        "evaluated_value = price_prediction.evaluate(x_test_normal,y_test)"
      ]
    },
    {
      "cell_type": "code",
      "execution_count": 69,
      "metadata": {
        "id": "yw-Wlt_mh-qv"
      },
      "outputs": [],
      "source": [
        "predicted_value = price_prediction.predict(x_test_normal)\n",
        "#e = lin_reg_model.predict(x_test)"
      ]
    },
    {
      "cell_type": "code",
      "source": [
        "from sklearn import metrics\n",
        "error_score = metrics.r2_score(y_test, predicted_value)\n",
        "print(\"R squared Error : \", error_score)"
      ],
      "metadata": {
        "colab": {
          "base_uri": "https://localhost:8080/"
        },
        "id": "xgl_TzXTc002",
        "outputId": "c0711d26-624f-488e-d5fb-1c6e6a4055b9"
      },
      "execution_count": 70,
      "outputs": [
        {
          "output_type": "stream",
          "name": "stdout",
          "text": [
            "R squared Error :  0.5568379421510679\n"
          ]
        }
      ]
    },
    {
      "cell_type": "code",
      "execution_count": 71,
      "metadata": {
        "colab": {
          "base_uri": "https://localhost:8080/",
          "height": 295
        },
        "id": "vGfrKwUbiRXk",
        "outputId": "e8d9a01a-763f-4aad-8163-064e1ef434f3"
      },
      "outputs": [
        {
          "output_type": "display_data",
          "data": {
            "text/plain": [
              "<Figure size 432x288 with 1 Axes>"
            ],
            "image/png": "[encoded data removed]"
          },
          "metadata": {
            "needs_background": "light"
          }
        }
      ],
      "source": [
        "plt.scatter(y_test, predicted_value,color='green')\n",
        "plt.xlabel(\"Actual value\")\n",
        "plt.ylabel(\"Predicted value\")\n",
        "plt.title(\" Actual value vs Predicted value\")\n",
        "plt.show()"
      ]
    },
    {
      "cell_type": "code",
      "execution_count": 71,
      "metadata": {
        "id": "ycA9UKMTieqR"
      },
      "outputs": [],
      "source": []
    }
  ],
  "metadata": {
    "accelerator": "GPU",
    "colab": {
      "name": "used_car_price_prediction_using_Linear_Regression.ipynb",
      "provenance": [],
      "authorship_tag": "ABX9TyMZGGhbCdexd9Z4QksPEVly"
    },
    "gpuClass": "standard",
    "kernelspec": {
      "display_name": "Python 3",
      "name": "python3"
    },
    "language_info": {
      "name": "python"
    }
  },
  "nbformat": 4,
  "nbformat_minor": 0
}